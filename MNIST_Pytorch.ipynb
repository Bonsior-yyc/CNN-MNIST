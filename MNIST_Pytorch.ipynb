{
 "nbformat": 4,
 "nbformat_minor": 0,
 "metadata": {
  "colab": {
   "name": "MNIST-Pytorch.ipynb",
   "provenance": []
  },
  "kernelspec": {
   "name": "python3",
   "display_name": "Python 3"
  },
  "accelerator": "GPU",
  "pycharm": {
   "stem_cell": {
    "cell_type": "raw",
    "source": [],
    "metadata": {
     "collapsed": false
    }
   }
  }
 },
 "cells": [
  {
   "cell_type": "markdown",
   "metadata": {
    "id": "59ht9Lg5O7ou",
    "colab_type": "text"
   },
   "source": [
    "## MNIST Pytorch\n",
    "\n",
    "#### 在运行之前，应满足如下库的需求，并在工作区下载data源文件"
   ]
  },
  {
   "cell_type": "code",
   "metadata": {
    "id": "GKB3q8pCO3Iu",
    "colab_type": "code",
    "colab": {
     "base_uri": "https://localhost:8080/",
     "height": 187
    },
    "outputId": "24351310-f4ff-4f73-c52d-19b028e8f120"
   },
   "source": [
    "!pip3 install torch\n",
    "!pip3 install numpy\n",
    "!pip3 install matplotlib"
   ],
   "execution_count": 2,
   "outputs": [
    {
     "output_type": "stream",
     "text": [
      "Requirement already satisfied: torch in /usr/local/lib/python3.6/dist-packages (1.4.0)\n",
      "Requirement already satisfied: numpy in /usr/local/lib/python3.6/dist-packages (1.17.5)\n",
      "Requirement already satisfied: matplotlib in /usr/local/lib/python3.6/dist-packages (3.1.3)\n",
      "Requirement already satisfied: cycler>=0.10 in /usr/local/lib/python3.6/dist-packages (from matplotlib) (0.10.0)\n",
      "Requirement already satisfied: pyparsing!=2.0.4,!=2.1.2,!=2.1.6,>=2.0.1 in /usr/local/lib/python3.6/dist-packages (from matplotlib) (2.4.6)\n",
      "Requirement already satisfied: numpy>=1.11 in /usr/local/lib/python3.6/dist-packages (from matplotlib) (1.17.5)\n",
      "Requirement already satisfied: python-dateutil>=2.1 in /usr/local/lib/python3.6/dist-packages (from matplotlib) (2.6.1)\n",
      "Requirement already satisfied: kiwisolver>=1.0.1 in /usr/local/lib/python3.6/dist-packages (from matplotlib) (1.1.0)\n",
      "Requirement already satisfied: six in /usr/local/lib/python3.6/dist-packages (from cycler>=0.10->matplotlib) (1.12.0)\n",
      "Requirement already satisfied: setuptools in /usr/local/lib/python3.6/dist-packages (from kiwisolver>=1.0.1->matplotlib) (45.2.0)\n"
     ],
     "name": "stdout"
    }
   ]
  },
  {
   "cell_type": "markdown",
   "metadata": {
    "id": "dOznspQAiKj-",
    "colab_type": "text"
   },
   "source": [
    "### 若机器配备gpu"
   ]
  },
  {
   "cell_type": "code",
   "metadata": {
    "id": "yaA_WvfyiOsw",
    "colab_type": "code",
    "colab": {
     "base_uri": "https://localhost:8080/",
     "height": 34
    },
    "outputId": "c1c27a13-2497-406b-d537-356093870188"
   },
   "source": [
    "print(torch.cuda.is_available())\n",
    "device = \"cuda:0\" if torch.cuda.is_available()  else \"cpu\""
   ],
   "execution_count": 49,
   "outputs": [
    {
     "output_type": "stream",
     "text": [
      "True\n"
     ],
     "name": "stdout"
    }
   ]
  },
  {
   "cell_type": "markdown",
   "metadata": {
    "id": "q5Xr08LzWlZT",
    "colab_type": "text"
   },
   "source": [
    "根据数据存放位置，修改配置信息。"
   ]
  },
  {
   "cell_type": "code",
   "metadata": {
    "id": "cc81UfiHWrcg",
    "colab_type": "code",
    "colab": {}
   },
   "source": [
    "# 需要配置\n",
    "train_data_file = '/content/drive/My Drive/CNN-MNIST/data/train/train-images-idx3-ubyte'\n",
    "train_label_file = '/content/drive/My Drive/CNN-MNIST/data/train/train-labels-idx1-ubyte'\n",
    "test_data_file = '/content/drive/My Drive/CNN-MNIST/data/test/t10k-images-idx3-ubyte'\n",
    "test_label_file = '/content/drive/My Drive/CNN-MNIST/data/test/t10k-labels-idx1-ubyte'"
   ],
   "execution_count": 0,
   "outputs": []
  },
  {
   "cell_type": "markdown",
   "metadata": {
    "id": "AshT90fFS_L7",
    "colab_type": "text"
   },
   "source": [
    "#### 可视化工具，包括进度条和图片显示工具"
   ]
  },
  {
   "cell_type": "code",
   "metadata": {
    "id": "ifhTxx69TGN4",
    "colab_type": "code",
    "colab": {}
   },
   "source": [
    "import time\n",
    "class Progress_bar(object):\n",
    "    def __init__(self):\n",
    "        self.start = time.perf_counter()\n",
    "        self.last_update = time.perf_counter()\n",
    "\n",
    "    def bar(self, index, length, script, batch=1):\n",
    "        index = index * batch\n",
    "        if length - index < batch:\n",
    "            index = length-1\n",
    "        percentage = (index+1) / length\n",
    "        progress = list('..........................')\n",
    "        progress[(index+1) * 25//length] = '>'\n",
    "        progress[:(index+1) * 25//length] = '=' * ((index+1) * 25//length + 1)\n",
    "        progress = ''.join(progress)\n",
    "        end_time = time.perf_counter()\n",
    "        print(\"\\r{}: {}  time left:{:.2f}s {}/{}  {:.2f} {} time cost:{:.2f}s \"\n",
    "              .format(script,\n",
    "                      progress,\n",
    "                      (end_time - self.start) / percentage * (1 - percentage),\n",
    "                      (index+1), length, percentage * 100, \"%\", end_time - self.start), end='')\n",
    "        self.last_update = time.perf_counter()\n"
   ],
   "execution_count": 0,
   "outputs": []
  },
  {
   "cell_type": "code",
   "metadata": {
    "id": "DzdBttuqTexR",
    "colab_type": "code",
    "colab": {}
   },
   "source": [
    "# %matplotlib inline\n",
    "import matplotlib.pyplot as plt\n",
    "def show_image(array, rows=1, cols=1):\n",
    "    if rows * cols == 1:\n",
    "        plt.figure()\n",
    "        plt.imshow(array, cmap='gray')\n",
    "        plt.show()\n",
    "    else:\n",
    "        for row in range(rows):\n",
    "            for col in range(cols):\n",
    "                index = row * cols + col \n",
    "                plt.subplot(rows, cols, index+1)\n",
    "                plt.imshow(array[index], cmap=\"gray\", interpolation=\"nearest\")\n",
    "                plt.axis('off')\n",
    "        plt.show()\n",
    " \n"
   ],
   "execution_count": 0,
   "outputs": []
  },
  {
   "cell_type": "markdown",
   "metadata": {
    "id": "MXjiPVtfTmIZ",
    "colab_type": "text"
   },
   "source": [
    "#### 数据的预处理函数"
   ]
  },
  {
   "cell_type": "code",
   "metadata": {
    "id": "9gik8MTRT-7T",
    "colab_type": "code",
    "colab": {}
   },
   "source": [
    "import struct\n",
    "import numpy as np\n",
    "\n",
    "def raw_file_idx3_process(file_path):\n",
    "    with open(file_path, 'rb') as f:\n",
    "        binary_data = f.read()\n",
    "        off_set = 0\n",
    "        fmt_header = '>iiii'\n",
    "        magic_number, num_images, num_rows, num_cols = struct.unpack_from(fmt_header, binary_data, off_set)\n",
    "\n",
    "        image_size = num_rows * num_cols\n",
    "        off_set += struct.calcsize(fmt_header)\n",
    "        fmt_image = '>' + str(image_size) + 'B'\n",
    "        images = np.empty((num_images, 1,  num_rows, num_cols))\n",
    "\n",
    "        print(\"\\nfile idx3 decoding:\")\n",
    "        b = Progress_bar()\n",
    "        for i in range(num_images):\n",
    "            b.bar(i, num_images, \"Preprocessed \")\n",
    "            temp = np.array(struct.unpack_from(fmt_image, binary_data, off_set)).reshape((num_rows, num_cols)).reshape(-1,1)\n",
    "            temp = temp / 255\n",
    "            temp = temp.reshape(1, 28, 28)\n",
    "            images[i][0] = temp\n",
    "            off_set += struct.calcsize(fmt_image)\n",
    "    return images"
   ],
   "execution_count": 0,
   "outputs": []
  },
  {
   "cell_type": "code",
   "metadata": {
    "id": "zQX9dYrUVP4Q",
    "colab_type": "code",
    "colab": {}
   },
   "source": [
    "def raw_file_idx1_process(file_path):\n",
    "    with open(file_path, 'rb') as f:\n",
    "        binary_data = f.read()\n",
    "        off_set = 0\n",
    "        fmt_header = '>ii'\n",
    "        magic_number, num_labels = struct.unpack_from(fmt_header, binary_data, off_set)\n",
    "\n",
    "        off_set += struct.calcsize(fmt_header)\n",
    "        fmt_label = '>B'\n",
    "        labels = np.empty(num_labels)\n",
    "\n",
    "        print(\"\\nfile idx1 decoding:\")\n",
    "        b = Progress_bar()\n",
    "        for i in range(num_labels):\n",
    "            b.bar(i, num_labels, \"Preprocessed \")\n",
    "            labels[i] = np.array(struct.unpack_from(fmt_label, binary_data, off_set), dtype=np.int)\n",
    "            off_set += struct.calcsize(fmt_label)\n",
    "    return labels"
   ],
   "execution_count": 0,
   "outputs": []
  },
  {
   "cell_type": "markdown",
   "metadata": {
    "id": "p2pl9i5UVr6f",
    "colab_type": "text"
   },
   "source": [
    "#### Pytorch 数据处理 构建dataset"
   ]
  },
  {
   "cell_type": "code",
   "metadata": {
    "id": "dC7CgaX_Vyt9",
    "colab_type": "code",
    "colab": {}
   },
   "source": [
    "import torch\n",
    "import torch.utils.data as tud\n",
    "\n",
    "class Torch_data_set(tud.Dataset):\n",
    "    def __init__(self, data, label):\n",
    "        super(Torch_data_set, self).__init__()\n",
    "        self.data = data\n",
    "        self.label = label\n",
    "\n",
    "    def __len__(self):\n",
    "        if len(self.data) == len(self.label):\n",
    "            return len(self.data)\n",
    "        else:\n",
    "            raise ValueError(\"wrong input size\")\n",
    "\n",
    "    def __getitem__(self, index):\n",
    "        tensor_data = torch.from_numpy(self.data)[index]\n",
    "        tensor_label = torch.from_numpy(self.label)[index]\n",
    "        return tensor_data.type(torch.float32), tensor_label.type(torch.int64)"
   ],
   "execution_count": 0,
   "outputs": []
  },
  {
   "cell_type": "markdown",
   "metadata": {
    "id": "sEeyUnU4VbFU",
    "colab_type": "text"
   },
   "source": [
    "### 模型构建 卷积神经网络"
   ]
  },
  {
   "cell_type": "code",
   "metadata": {
    "id": "geS6DQgPVgdq",
    "colab_type": "code",
    "colab": {}
   },
   "source": [
    "import torch\n",
    "import torch.nn as nn\n",
    "import torch.nn.functional as F\n",
    "\n",
    "\n",
    "class Net(nn.Module):\n",
    "    def __init__(self):\n",
    "        super(Net, self).__init__()\n",
    "        self.Conv1 = nn.Conv2d(1, 20, 5, 1)\n",
    "        self.pool = nn.MaxPool2d(2, 2)\n",
    "        self.Conv2 = nn.Conv2d(20, 50, 5, 1)\n",
    "        self.fc1 = nn.Linear(4 * 4 * 50, 500)\n",
    "        self.fc2 = nn.Linear(500, 10)\n",
    "\n",
    "    def forward(self, x):\n",
    "        x = F.relu(self.Conv1(x))\n",
    "        x = self.pool(x)\n",
    "        x = F.relu(self.Conv2(x))\n",
    "        x = self.pool(x)\n",
    "        x = x.view(-1, 4 * 4 * 50)\n",
    "        x = F.relu(self.fc1(x))\n",
    "        x = self.fc2(x)\n",
    "        return x\n",
    "\n",
    "        "
   ],
   "execution_count": 0,
   "outputs": []
  },
  {
   "cell_type": "markdown",
   "metadata": {
    "id": "WPXW6qxjWAV6",
    "colab_type": "text"
   },
   "source": [
    "#### 训练模型"
   ]
  },
  {
   "cell_type": "code",
   "metadata": {
    "id": "Z_9CPxmiWG5D",
    "colab_type": "code",
    "colab": {
     "base_uri": "https://localhost:8080/",
     "height": 170
    },
    "outputId": "8707ac08-f58f-4bac-e4e0-64ea302edc77"
   },
   "source": [
    "NUM_EPOCHS = 2\n",
    "BATCH_SIZE = 128\n",
    "\n",
    "\n",
    "train_data = raw_file_idx3_process(train_data_file)\n",
    "train_label = raw_file_idx1_process(train_label_file)\n",
    "train_set = Torch_data_set(train_data, train_label)\n",
    "train_loader = tud.DataLoader(train_set, batch_size=BATCH_SIZE, shuffle=True)\n",
    "\n",
    "net = Net()\n",
    "loss_fn = nn.CrossEntropyLoss()\n",
    "optimizer = torch.optim.SGD(net.parameters(), lr=0.1)\n",
    "\n",
    "net = net.to(device)\n",
    "\n",
    "for epoch in range(NUM_EPOCHS):\n",
    "    print(\"\\nepoch: \", epoch+1)\n",
    "    b = Progress_bar()\n",
    "    for index, data in enumerate(train_loader):\n",
    "        b.bar(index, train_set.__len__(), \"Training: \", BATCH_SIZE)\n",
    "        image, label = data\n",
    "        image, label = image.to(device), label.to(device)\n",
    "        optimizer.zero_grad()\n",
    "        predict = net(image)\n",
    "        loss = loss_fn(predict, label)\n",
    "        print(\"loss: \", torch.sum(loss).cpu().item(), end='')\n",
    "        loss.backward()\n",
    "        optimizer.step()\n",
    "\n"
   ],
   "execution_count": 52,
   "outputs": [
    {
     "output_type": "stream",
     "text": [
      "\n",
      "file idx3 decoding:\n",
      "Preprocessed : ==========================>  time left:0.00s 60000/60000  100.00 % time cost:14.20s \n",
      "file idx1 decoding:\n",
      "Preprocessed : ==========================>  time left:0.00s 60000/60000  100.00 % time cost:7.01s \n",
      "epoch:  1\n",
      "Training: : ==========================>  time left:0.00s 60000/60000  100.00 % time cost:2.02s loss:  0.05814843997359276\n",
      "epoch:  2\n",
      "Training: : ==========================>  time left:0.00s 60000/60000  100.00 % time cost:1.97s loss:  0.02134430967271328"
     ],
     "name": "stdout"
    }
   ]
  },
  {
   "cell_type": "markdown",
   "metadata": {
    "id": "KgiDUMVWWPAk",
    "colab_type": "text"
   },
   "source": [
    "#### 模型测试"
   ]
  },
  {
   "cell_type": "code",
   "metadata": {
    "id": "qLdW2-o8Xl7E",
    "colab_type": "code",
    "colab": {
     "base_uri": "https://localhost:8080/",
     "height": 343
    },
    "outputId": "fac531d9-576b-4308-c201-4857fdddd687"
   },
   "source": [
    "\n",
    "BATCH_SIZE = 10\n",
    "\n",
    "test_data = raw_file_idx3_process(test_data_file)\n",
    "\n",
    "test_label = raw_file_idx1_process(test_label_file)\n",
    "\n",
    "test_set = Torch_data_set(test_data, test_label)\n",
    "test_loader = tud.DataLoader(test_set, batch_size=BATCH_SIZE, shuffle=False)\n",
    "\n",
    "total = 0\n",
    "bingo = 0\n",
    "\n",
    "print(\"\\n\")\n",
    "with torch.no_grad():\n",
    "    for index, data in enumerate(test_loader):\n",
    "        inputs, label = data\n",
    "        inputs, label = inputs.to(device), label.to(device)\n",
    "        outputs = net(inputs)\n",
    "        _, predicted = torch.max(outputs.data,1)\n",
    "        total += label.size(0)\n",
    "        bingo += (predicted == label).sum().item()\n",
    "        if index == 117:\n",
    "            print(predicted.cpu().numpy())\n",
    "            inputs = [inp.reshape(28, 28) for inp in inputs.cpu()]\n",
    "            show_image(inputs, 2, 5)\n",
    "            \n",
    "        print(\"\\rAccuracy: {:.2f}\".format(bingo/total), end='')\n"
   ],
   "execution_count": 53,
   "outputs": [
    {
     "output_type": "stream",
     "text": [
      "\n",
      "file idx3 decoding:\n",
      "Preprocessed : ==========================>  time left:0.00s 10000/10000  100.00 % time cost:2.36s \n",
      "file idx1 decoding:\n",
      "Preprocessed : ==========================>  time left:0.00s 10000/10000  100.00 % time cost:1.17s \n",
      "\n",
      "Accuracy: 0.98[8 7 3 7 2 7 0 2 4 1]\n"
     ],
     "name": "stdout"
    },
    {
     "output_type": "display_data",
     "data": {
      "image/png": "[encoded data removed]",
      "text/plain": [
       "<Figure size 432x288 with 10 Axes>"
      ]
     },
     "metadata": {
      "tags": []
     }
    },
    {
     "output_type": "stream",
     "text": [
      "Accuracy: 0.98"
     ],
     "name": "stdout"
    }
   ]
  }
 ]
}